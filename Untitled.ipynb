{
 "cells": [
  {
   "cell_type": "code",
   "execution_count": 12,
   "metadata": {},
   "outputs": [
    {
     "name": "stdout",
     "output_type": "stream",
     "text": [
      "[0.1 0.2]\n",
      "[0.08 0.11]\n",
      "[0.51998934 0.5274723 ]\n",
      "[0.44498412 0.68047592]\n",
      "[0.609446   0.66384491]\n",
      "[0.00598921 0.01342258]\n",
      "0.019411791221889033\n"
     ]
    }
   ],
   "source": [
    "import numpy as np \n",
    "\n",
    "\n",
    "inputs = np.asarray([0.1,0.2])\n",
    "print(inputs)\n",
    "weight = np.asarray([[0.3,0.25],[0.4,0.35]])\n",
    "outputs = np.dot(weight,inputs)\n",
    "print(outputs)\n",
    "def sigmoid(x) :\n",
    "    return 1/(1+np.exp(-x))\n",
    "outputs = sigmoid(outputs)\n",
    "print(outputs)\n",
    "weight = np.asarray([[0.45,0.4],[0.7,0.6]])\n",
    "outputs = np.dot(weight, outputs)\n",
    "print(outputs)\n",
    "outputs = sigmoid(outputs)\n",
    "print(outputs)\n",
    "True_label = np.asarray([0.5,0.5])\n",
    "Error = np.square(True_label - outputs) * (1/2)\n",
    "print(Error)\n",
    "print(np.sum(Error))"
   ]
  },
  {
   "cell_type": "code",
   "execution_count": null,
   "metadata": {},
   "outputs": [],
   "source": [
    "class BaseLayer :\n",
    "    def update(self, eta) :\n",
    "        self.w -= eta * self.grad_w\n",
    "\n",
    "class MidLayer(BaseLayer) :\n",
    "    def __init__(self, n_upper, n ) :\n",
    "        self.w = [0.3,]"
   ]
  }
 ],
 "metadata": {
  "kernelspec": {
   "display_name": "Python 3",
   "language": "python",
   "name": "python3"
  },
  "language_info": {
   "codemirror_mode": {
    "name": "ipython",
    "version": 3
   },
   "file_extension": ".py",
   "mimetype": "text/x-python",
   "name": "python",
   "nbconvert_exporter": "python",
   "pygments_lexer": "ipython3",
   "version": "3.8.5"
  }
 },
 "nbformat": 4,
 "nbformat_minor": 4
}
