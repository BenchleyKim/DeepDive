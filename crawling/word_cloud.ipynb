{
 "cells": [
  {
   "cell_type": "code",
   "execution_count": 1,
   "metadata": {},
   "outputs": [
    {
     "name": "stdout",
     "output_type": "stream",
     "text": [
      "['띄어쓰기', '안해', '명사', '추출']\n"
     ]
    }
   ],
   "source": [
    "from konlpy.utils import pprint\n",
    "from konlpy.tag import Okt\n",
    "\n",
    "okt = Okt()\n",
    "print(okt.phrases(\"띄어쓰기를 안해도 명사를 추출할수 있나\"))\n",
    "\n",
    "keywords = \"실수쓰레기위반잘못처벌범죄문제기만 우롱멘탈 망함 배신 나락악마비공개형언니사랑축하응원happylovewant예쁘다믿다심하다화이팅 \"\n"
   ]
  },
  {
   "cell_type": "code",
   "execution_count": 6,
   "metadata": {
    "scrolled": true
   },
   "outputs": [
    {
     "name": "stdout",
     "output_type": "stream",
     "text": [
      "985474\n",
      "680495\n"
     ]
    },
    {
     "data": {
      "text/plain": [
       "<wordcloud.wordcloud.WordCloud at 0x1db6f7f91f0>"
      ]
     },
     "execution_count": 6,
     "metadata": {},
     "output_type": "execute_result"
    }
   ],
   "source": [
    "import os \n",
    "import pandas as pd\n",
    "\n",
    "path_dir = './문복희'\n",
    "file_list = os.listdir(path_dir)\n",
    "pre_issue = []\n",
    "post_issue = []\n",
    "for filename in file_list :\n",
    "    year, month, date= filename.split(\"_\")[1].split('.')[0].split()\n",
    "    filename = path_dir + '/' + filename\n",
    "    df = pd.read_csv(filename, encoding = 'utf-8')\n",
    "    arr = df['Comment'].tolist()\n",
    "    if int(year) <= 2020 :\n",
    "        if int(month) <= 7 :\n",
    "            pre_issue.extend(arr)\n",
    "        else :\n",
    "            post_issue.extend(arr)\n",
    "    else :\n",
    "        post_issue.extend(arr)\n",
    "        \n",
    "            \n",
    "    \n",
    "\n",
    "from collections import Counter\n",
    "pre_noun = []\n",
    "for comment in pre_issue :\n",
    "    noun = okt.phrases(comment)\n",
    "    pre_noun.extend(noun)\n",
    "\n",
    "#     for i,v in enumerate(noun) :\n",
    "#         if v in keywords :\n",
    "#             pre_noun.append(v)\n",
    "pre_count = Counter(pre_noun)\n",
    "pre_noun_list = pre_count.most_common(300)\n",
    "\n",
    "post_noun = []\n",
    "for comment in post_issue :\n",
    "    noun = okt.phrases(comment)\n",
    "    post_noun.extend(noun)\n",
    "#     for i,v in enumerate(noun) :\n",
    "#         if v in keywords :\n",
    "#             post_noun.append(v)\n",
    "post_count = Counter(post_noun)\n",
    "post_noun_list = post_count.most_common(100)\n",
    "\n",
    "print(len(pre_noun))\n",
    "print(len(post_noun))\n",
    "\n",
    "from wordcloud import WordCloud\n",
    "from matplotlib import font_manager, rc\n",
    "\n",
    "font_name = font_manager.FontProperties(fname=\"c:/Windows/Fonts/malgun.ttf\").get_name()\n",
    "rc('font', family=font_name)\n",
    "\n",
    "wc = WordCloud(font_path = 'c:/Windows/Fonts/malgun.ttf', \n",
    "               background_color = 'white', width=1000, height=1000,\n",
    "               max_words= 100, max_font_size = 200)\n",
    "\n",
    "wc.generate_from_frequencies(dict(post_noun_list))\n",
    "wc.to_file('post_wordcloud.png')\n",
    "\n",
    "wc.generate_from_frequencies(dict(pre_noun_list))\n",
    "wc.to_file('pre_wordcloud.png')\n"
   ]
  },
  {
   "cell_type": "code",
   "execution_count": 7,
   "metadata": {},
   "outputs": [],
   "source": [
    "import pickle"
   ]
  },
  {
   "cell_type": "code",
   "execution_count": 15,
   "metadata": {},
   "outputs": [],
   "source": [
    "\n",
    "prefilePath = './moonPreCommentList.txt'\n",
    "with open(prefilePath, 'w+',encoding='utf-8') as lf :\n",
    "    lf.write('\\n'.join(pre_issue))\n",
    "postfilePath = './moonPostCommentList.txt'\n",
    "with open(postfilePath, 'w+',encoding='utf-8') as lf :\n",
    "    lf.write('\\n'.join(post_issue))\n",
    "    \n",
    "    "
   ]
  },
  {
   "cell_type": "code",
   "execution_count": 3,
   "metadata": {},
   "outputs": [
    {
     "name": "stdout",
     "output_type": "stream",
     "text": [
      "71250\n",
      "37415\n"
     ]
    },
    {
     "data": {
      "text/plain": [
       "<wordcloud.wordcloud.WordCloud at 0x1c32e9a0940>"
      ]
     },
     "execution_count": 3,
     "metadata": {},
     "output_type": "execute_result"
    }
   ],
   "source": [
    "import os \n",
    "import pandas as pd\n",
    "\n",
    "path_dir = './보겸'\n",
    "file_list = os.listdir(path_dir)\n",
    "pre_issue = []\n",
    "post_issue = []\n",
    "for filename in file_list :\n",
    "    year, month, date= filename.split(\"_\")[1].split('.')[0].split()\n",
    "    filename = path_dir + '/' + filename\n",
    "    df = pd.read_csv(filename, encoding = 'utf-8')\n",
    "    arr = df['Comment'].tolist()\n",
    "    if int(year) <= 2020 :\n",
    "        if int(month) <= 7 :\n",
    "            pre_issue.extend(arr)\n",
    "        else :\n",
    "            post_issue.extend(arr)\n",
    "    else :\n",
    "        post_issue.extend(arr)\n",
    "        \n",
    "            \n",
    "    \n",
    "\n",
    "from collections import Counter\n",
    "\n",
    "pre_noun = []\n",
    "for comment in pre_issue :\n",
    "    try : \n",
    "        noun = okt.nouns(comment)\n",
    "    except TypeError as e :\n",
    "        continue\n",
    "    for i,v in enumerate(noun) :\n",
    "        if v in keywords :\n",
    "            pre_noun.append(v)\n",
    "        \n",
    "pre_count = Counter(pre_noun)\n",
    "pre_noun_list = pre_count.most_common(100)\n",
    "\n",
    "post_noun = []\n",
    "for comment in post_issue :\n",
    "    try : \n",
    "        noun = okt.nouns(comment)\n",
    "    except TypeError as e :\n",
    "        continue\n",
    "    for i,v in enumerate(noun) :\n",
    "        if v in keywords :\n",
    "            post_noun.append(v)\n",
    "post_count = Counter(post_noun)\n",
    "post_noun_list = post_count.most_common(100)\n",
    "\n",
    "print(len(pre_noun))\n",
    "print(len(post_noun))\n",
    "from wordcloud import WordCloud\n",
    "from matplotlib import font_manager, rc\n",
    "\n",
    "font_name = font_manager.FontProperties(fname=\"c:/Windows/Fonts/malgun.ttf\").get_name()\n",
    "rc('font', family=font_name)\n",
    "\n",
    "wc = WordCloud(font_path = 'c:/Windows/Fonts/malgun.ttf', \n",
    "               background_color = 'white', width=1000, height=1000,\n",
    "               max_words= 100, max_font_size = 200)\n",
    "\n",
    "wc.generate_from_frequencies(dict(post_noun_list))\n",
    "wc.to_file('b_post_wordcloud.png')\n",
    "\n",
    "wc.generate_from_frequencies(dict(pre_noun_list))\n",
    "wc.to_file('b_pre_wordcloud.png')"
   ]
  },
  {
   "cell_type": "code",
   "execution_count": 16,
   "metadata": {},
   "outputs": [],
   "source": [
    "path_dir = './보겸'\n",
    "file_list = os.listdir(path_dir)\n",
    "pre_issue = []\n",
    "post_issue = []\n",
    "for filename in file_list :\n",
    "    year, month, date= filename.split(\"_\")[1].split('.')[0].split()\n",
    "    filename = path_dir + '/' + filename\n",
    "    df = pd.read_csv(filename, encoding = 'utf-8')\n",
    "    arr = df['Comment'].tolist()\n",
    "    if int(year) <= 2020 :\n",
    "        if int(month) <= 7 :\n",
    "            pre_issue.extend(arr)\n",
    "        else :\n",
    "            post_issue.extend(arr)\n",
    "    else :\n",
    "        post_issue.extend(arr)"
   ]
  },
  {
   "cell_type": "code",
   "execution_count": 18,
   "metadata": {},
   "outputs": [],
   "source": [
    "\n",
    "prefilePath = './bPreCommentList.txt'\n",
    "with open(prefilePath, 'w+',encoding='utf-8') as lf :\n",
    "    for comment in pre_issue :\n",
    "        lf.write(str(comment) + '\\n')\n",
    "postfilePath = './bPostCommentList.txt'\n",
    "with open(postfilePath, 'w+',encoding='utf-8') as lf :\n",
    "    for comment in post_issue :\n",
    "        lf.write(str(comment) + '\\n')"
   ]
  },
  {
   "cell_type": "code",
   "execution_count": 2,
   "metadata": {},
   "outputs": [
    {
     "ename": "NameError",
     "evalue": "name 'pre_noun_list' is not defined",
     "output_type": "error",
     "traceback": [
      "\u001b[1;31m---------------------------------------------------------------------------\u001b[0m",
      "\u001b[1;31mNameError\u001b[0m                                 Traceback (most recent call last)",
      "\u001b[1;32m<ipython-input-2-dc684bdd7c2c>\u001b[0m in \u001b[0;36m<module>\u001b[1;34m\u001b[0m\n\u001b[1;32m----> 1\u001b[1;33m \u001b[0mprint\u001b[0m\u001b[1;33m(\u001b[0m\u001b[0mpre_noun_list\u001b[0m\u001b[1;33m)\u001b[0m\u001b[1;33m\u001b[0m\u001b[1;33m\u001b[0m\u001b[0m\n\u001b[0m",
      "\u001b[1;31mNameError\u001b[0m: name 'pre_noun_list' is not defined"
     ]
    }
   ],
   "source": [
    "print(pre_noun_list)"
   ]
  }
 ],
 "metadata": {
  "kernelspec": {
   "display_name": "Python 3",
   "language": "python",
   "name": "python3"
  },
  "language_info": {
   "codemirror_mode": {
    "name": "ipython",
    "version": 3
   },
   "file_extension": ".py",
   "mimetype": "text/x-python",
   "name": "python",
   "nbconvert_exporter": "python",
   "pygments_lexer": "ipython3",
   "version": "3.8.5"
  }
 },
 "nbformat": 4,
 "nbformat_minor": 4
}
