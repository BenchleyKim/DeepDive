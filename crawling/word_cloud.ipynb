{
 "cells": [
  {
   "cell_type": "code",
   "execution_count": 2,
   "metadata": {},
   "outputs": [
    {
     "name": "stdout",
     "output_type": "stream",
     "text": [
      "['띄어쓰기', '안해', '명사', '추출']\n"
     ]
    }
   ],
   "source": [
    "from konlpy.utils import pprint\n",
    "from konlpy.tag import Okt\n",
    "\n",
    "okt = Okt()\n",
    "print(okt.phrases(\"띄어쓰기를 안해도 명사를 추출할수 있나\"))\n",
    "\n"
   ]
  },
  {
   "cell_type": "code",
   "execution_count": 3,
   "metadata": {},
   "outputs": [
    {
     "name": "stdout",
     "output_type": "stream",
     "text": [
      "985474\n",
      "680495\n"
     ]
    },
    {
     "data": {
      "text/plain": [
       "<wordcloud.wordcloud.WordCloud at 0x11ef6f8b040>"
      ]
     },
     "execution_count": 3,
     "metadata": {},
     "output_type": "execute_result"
    }
   ],
   "source": [
    "import os \n",
    "import pandas as pd\n",
    "\n",
    "path_dir = './문복희'\n",
    "file_list = os.listdir(path_dir)\n",
    "pre_issue = []\n",
    "post_issue = []\n",
    "for filename in file_list :\n",
    "    year, month, date= filename.split(\"_\")[1].split('.')[0].split()\n",
    "    filename = path_dir + '/' + filename\n",
    "    df = pd.read_csv(filename, encoding = 'utf-8')\n",
    "    arr = df['Comment'].tolist()\n",
    "    if int(year) <= 2020 :\n",
    "        if int(month) <= 7 :\n",
    "            pre_issue.extend(arr)\n",
    "        else :\n",
    "            post_issue.extend(arr)\n",
    "    else :\n",
    "        post_issue.extend(arr)\n",
    "        \n",
    "            \n",
    "    \n",
    "\n",
    "from collections import Counter\n",
    "pre_noun = []\n",
    "for comment in pre_issue :\n",
    "    noun = okt.phrases(comment)\n",
    "    for i,v in enumerate(noun) :\n",
    "        if len(v) < 2 :\n",
    "            noun.pop(i)\n",
    "    pre_noun.extend(noun)\n",
    "pre_count = Counter(pre_noun)\n",
    "pre_noun_list = pre_count.most_common(100)\n",
    "\n",
    "post_noun = []\n",
    "for comment in post_issue :\n",
    "    noun = okt.phrases(comment)\n",
    "    for i,v in enumerate(noun) :\n",
    "        if len(v) < 2 :\n",
    "            noun.pop(i)\n",
    "    post_noun.extend(noun)\n",
    "post_count = Counter(post_noun)\n",
    "post_noun_list = post_count.most_common(100)\n",
    "\n",
    "print(len(pre_noun))\n",
    "print(len(post_noun))\n",
    "\n",
    "from wordcloud import WordCloud\n",
    "from matplotlib import font_manager, rc\n",
    "\n",
    "font_name = font_manager.FontProperties(fname=\"c:/Windows/Fonts/malgun.ttf\").get_name()\n",
    "rc('font', family=font_name)\n",
    "\n",
    "wc = WordCloud(font_path = 'c:/Windows/Fonts/malgun.ttf', \n",
    "               background_color = 'white', width=1000, height=1000,\n",
    "               max_words= 100, max_font_size = 200)\n",
    "\n",
    "wc.generate_from_frequencies(dict(post_noun_list))\n",
    "wc.to_file('post_wordcloud.png')\n",
    "\n",
    "wc.generate_from_frequencies(dict(pre_noun_list))\n",
    "wc.to_file('pre_wordcloud.png')"
   ]
  },
  {
   "cell_type": "code",
   "execution_count": 4,
   "metadata": {},
   "outputs": [
    {
     "name": "stdout",
     "output_type": "stream",
     "text": [
      "617667\n",
      "377388\n"
     ]
    },
    {
     "data": {
      "text/plain": [
       "<wordcloud.wordcloud.WordCloud at 0x11ef6ff51c0>"
      ]
     },
     "execution_count": 4,
     "metadata": {},
     "output_type": "execute_result"
    }
   ],
   "source": [
    "import os \n",
    "import pandas as pd\n",
    "\n",
    "path_dir = './보겸'\n",
    "file_list = os.listdir(path_dir)\n",
    "pre_issue = []\n",
    "post_issue = []\n",
    "for filename in file_list :\n",
    "    year, month, date= filename.split(\"_\")[1].split('.')[0].split()\n",
    "    filename = path_dir + '/' + filename\n",
    "    df = pd.read_csv(filename, encoding = 'utf-8')\n",
    "    arr = df['Comment'].tolist()\n",
    "    if int(year) <= 2020 :\n",
    "        if int(month) <= 7 :\n",
    "            pre_issue.extend(arr)\n",
    "        else :\n",
    "            post_issue.extend(arr)\n",
    "    else :\n",
    "        post_issue.extend(arr)\n",
    "        \n",
    "            \n",
    "    \n",
    "\n",
    "from collections import Counter\n",
    "\n",
    "pre_noun = []\n",
    "for comment in pre_issue :\n",
    "    try : \n",
    "        noun = okt.nouns(comment)\n",
    "    except TypeError as e :\n",
    "        continue\n",
    "    for i,v in enumerate(noun) :\n",
    "        if len(v) < 2 :\n",
    "            noun.pop(i)\n",
    "    pre_noun.extend(noun)\n",
    "pre_count = Counter(pre_noun)\n",
    "pre_noun_list = pre_count.most_common(100)\n",
    "\n",
    "post_noun = []\n",
    "for comment in post_issue :\n",
    "    try : \n",
    "        noun = okt.nouns(comment)\n",
    "    except TypeError as e :\n",
    "        continue\n",
    "    for i,v in enumerate(noun) :\n",
    "        if len(v) < 2 :\n",
    "            noun.pop(i)\n",
    "    post_noun.extend(noun)\n",
    "post_count = Counter(post_noun)\n",
    "post_noun_list = post_count.most_common(100)\n",
    "\n",
    "print(len(pre_noun))\n",
    "print(len(post_noun))\n",
    "from wordcloud import WordCloud\n",
    "from matplotlib import font_manager, rc\n",
    "\n",
    "font_name = font_manager.FontProperties(fname=\"c:/Windows/Fonts/malgun.ttf\").get_name()\n",
    "rc('font', family=font_name)\n",
    "\n",
    "wc = WordCloud(font_path = 'c:/Windows/Fonts/malgun.ttf', \n",
    "               background_color = 'white', width=1000, height=1000,\n",
    "               max_words= 100, max_font_size = 200)\n",
    "\n",
    "wc.generate_from_frequencies(dict(post_noun_list))\n",
    "wc.to_file('b_post_wordcloud.png')\n",
    "\n",
    "wc.generate_from_frequencies(dict(pre_noun_list))\n",
    "wc.to_file('b_pre_wordcloud.png')"
   ]
  }
 ],
 "metadata": {
  "kernelspec": {
   "display_name": "Python 3",
   "language": "python",
   "name": "python3"
  },
  "language_info": {
   "codemirror_mode": {
    "name": "ipython",
    "version": 3
   },
   "file_extension": ".py",
   "mimetype": "text/x-python",
   "name": "python",
   "nbconvert_exporter": "python",
   "pygments_lexer": "ipython3",
   "version": "3.8.5"
  }
 },
 "nbformat": 4,
 "nbformat_minor": 4
}
