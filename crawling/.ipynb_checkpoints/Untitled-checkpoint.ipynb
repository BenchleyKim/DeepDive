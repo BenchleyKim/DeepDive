{
 "cells": [
  {
   "cell_type": "code",
   "execution_count": 6,
   "metadata": {},
   "outputs": [],
   "source": [
    "from selenium import webdriver as wd\n",
    "from bs4 import BeautifulSoup\n",
    "import time\n",
    "import pandas as pd \n",
    "\n",
    "\n",
    "driver = wd.Chrome(executable_path = \"chromedriver.exe\")\n",
    "url = \"https://youtu.be/5QHB517n7oI\"\n",
    "driver.get(url)\n",
    "\n",
    "last_page_height = driver.execute_script(\"return document.documentElement.scrollHeight\")\n",
    "\n",
    "while True :\n",
    "    driver.execute_script(\"window.scrollTo(0, document.documentElement.scrollHeight);\")\n",
    "    time.sleep(3.0)\n",
    "    new_page_height = driver.execute_script(\"return document.documentElement.scrollHeight\")\n",
    "    \n",
    "    if new_page_height == last_page_height :\n",
    "        break\n",
    "    last_page_height = new_page_height\n",
    "\n",
    "html_source = driver.page_source\n",
    "\n",
    "driver.close()\n",
    "\n",
    "soup = BeautifulSoup(html_source, \"lxml\")\n",
    "youtube_user_IDs = soup.select('div#header-author > a > span') \n",
    "youtube_comments = soup.select('yt-formatted-string#content-text')\n",
    "\n",
    "str_youtube_userIDs = [] \n",
    "str_youtube_comments = [] \n",
    "for i in range(len(youtube_user_IDs)): \n",
    "    str_tmp = str(youtube_user_IDs[i].text) # print(str_tmp) \n",
    "    str_tmp = str_tmp.replace('\\n', '') \n",
    "    str_tmp = str_tmp.replace('\\t', '') \n",
    "    str_tmp = str_tmp.replace(' ','') \n",
    "    str_youtube_userIDs.append(str_tmp) \n",
    "    print(str_tmp)\n",
    "    str_tmp = str(youtube_comments[i].text) \n",
    "    str_tmp = str_tmp.replace('\\n', '') \n",
    "    str_tmp = str_tmp.replace('\\t', '') \n",
    "    str_tmp = str_tmp.replace(' ', '') \n",
    "    str_youtube_comments.append(str_tmp)\n",
    "    print(str_tmp)\n",
    "pd_data = {\"ID\":str_youtube_userIDs, \"Comment\":str_youtube_comments} \n",
    "youtube_pd = pd.DataFrame(pd_data)\n",
    "youtube_pd.to_csv('comment_data.csv')\n",
    "\n"
   ]
  },
  {
   "cell_type": "code",
   "execution_count": 5,
   "metadata": {},
   "outputs": [
    {
     "name": "stderr",
     "output_type": "stream",
     "text": [
      "IOPub data rate exceeded.\n",
      "The notebook server will temporarily stop sending output\n",
      "to the client in order to avoid crashing it.\n",
      "To change this limit, set the config variable\n",
      "`--NotebookApp.iopub_data_rate_limit`.\n",
      "\n",
      "Current values:\n",
      "NotebookApp.iopub_data_rate_limit=1000000.0 (bytes/sec)\n",
      "NotebookApp.rate_limit_window=3.0 (secs)\n",
      "\n"
     ]
    }
   ],
   "source": [
    "print(soup)"
   ]
  },
  {
   "cell_type": "code",
   "execution_count": 4,
   "metadata": {},
   "outputs": [],
   "source": [
    "\n"
   ]
  },
  {
   "cell_type": "code",
   "execution_count": 6,
   "metadata": {
    "scrolled": true
   },
   "outputs": [
    {
     "name": "stderr",
     "output_type": "stream",
     "text": [
      "IOPub data rate exceeded.\n",
      "The notebook server will temporarily stop sending output\n",
      "to the client in order to avoid crashing it.\n",
      "To change this limit, set the config variable\n",
      "`--NotebookApp.iopub_data_rate_limit`.\n",
      "\n",
      "Current values:\n",
      "NotebookApp.iopub_data_rate_limit=1000000.0 (bytes/sec)\n",
      "NotebookApp.rate_limit_window=3.0 (secs)\n",
      "\n"
     ]
    }
   ],
   "source": [
    "print(soup)"
   ]
  },
  {
   "cell_type": "code",
   "execution_count": null,
   "metadata": {},
   "outputs": [],
   "source": [
    "!pip update numpy"
   ]
  },
  {
   "cell_type": "code",
   "execution_count": 1,
   "metadata": {},
   "outputs": [],
   "source": [
    "import pandas as pd"
   ]
  },
  {
   "cell_type": "code",
   "execution_count": null,
   "metadata": {},
   "outputs": [],
   "source": []
  }
 ],
 "metadata": {
  "kernelspec": {
   "display_name": "Python 3",
   "language": "python",
   "name": "python3"
  },
  "language_info": {
   "codemirror_mode": {
    "name": "ipython",
    "version": 3
   },
   "file_extension": ".py",
   "mimetype": "text/x-python",
   "name": "python",
   "nbconvert_exporter": "python",
   "pygments_lexer": "ipython3",
   "version": "3.8.5"
  }
 },
 "nbformat": 4,
 "nbformat_minor": 4
}
