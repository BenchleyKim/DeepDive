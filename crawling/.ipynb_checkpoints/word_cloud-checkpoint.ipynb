{
 "cells": [
  {
   "cell_type": "code",
   "execution_count": 5,
   "metadata": {},
   "outputs": [
    {
     "name": "stdout",
     "output_type": "stream",
     "text": [
      "['띄어쓰기', '안해', '명사', '추출']\n"
     ]
    }
   ],
   "source": [
    "from konlpy.utils import pprint\n",
    "from konlpy.tag import Okt\n",
    "\n",
    "okt = Okt()\n",
    "print(okt.phrases(\"띄어쓰기를 안해도 명사를 추출할수 있나\"))\n",
    "\n"
   ]
  },
  {
   "cell_type": "code",
   "execution_count": 15,
   "metadata": {},
   "outputs": [
    {
     "name": "stdout",
     "output_type": "stream",
     "text": [
      "214\n",
      "2021 5 13\n",
      "./문복희/0_2021 5 13.csv\n"
     ]
    }
   ],
   "source": [
    "import os \n",
    "import pandas as pd\n",
    "\n",
    "path_dir = './문복희'\n",
    "file_list = os.listdir(path_dir)\n",
    "print(len(file_list))\n",
    "filename = file_list[0].split(\"_\")[1].split('.')[0]\n",
    "year, month, date = filename.split()\n",
    "print(year, month, date)\n",
    "ex_file = path_dir + '/' + file_list[0]\n",
    "print(ex_file)\n",
    "pre_issue = []\n",
    "post_issue = []\n",
    "for filename in file_list :\n",
    "    year, month, date= file_list[0].split(\"_\")[1].split('.')[0].split()\n",
    "    filename = path_dir + '/' + filename\n",
    "    df = pd.read_csv(filename, encoding = 'utf-8')\n",
    "    arr = df['Comment'].tolist()\n",
    "    if year == '2020' :\n",
    "        if int(month) <= 7 :\n",
    "            pre_issue.extend(arr)\n",
    "        else :\n",
    "            post_issue.extend(arr)\n",
    "    else :\n",
    "        post_issue.extend(arr)\n",
    "        \n",
    "            \n",
    "    "
   ]
  }
 ],
 "metadata": {
  "kernelspec": {
   "display_name": "Python 3",
   "language": "python",
   "name": "python3"
  },
  "language_info": {
   "codemirror_mode": {
    "name": "ipython",
    "version": 3
   },
   "file_extension": ".py",
   "mimetype": "text/x-python",
   "name": "python",
   "nbconvert_exporter": "python",
   "pygments_lexer": "ipython3",
   "version": "3.8.5"
  }
 },
 "nbformat": 4,
 "nbformat_minor": 4
}
